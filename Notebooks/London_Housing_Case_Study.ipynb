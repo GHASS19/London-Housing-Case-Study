{
  "nbformat": 4,
  "nbformat_minor": 0,
  "metadata": {
    "colab": {
      "provenance": [],
      "include_colab_link": true
    },
    "kernelspec": {
      "display_name": "Python 3",
      "language": "python",
      "name": "python3"
    },
    "language_info": {
      "codemirror_mode": {
        "name": "ipython",
        "version": 3
      },
      "file_extension": ".py",
      "mimetype": "text/x-python",
      "name": "python",
      "nbconvert_exporter": "python",
      "pygments_lexer": "ipython3",
      "version": "3.8.8"
    }
  },
  "cells": [
    {
      "cell_type": "markdown",
      "metadata": {
        "id": "view-in-github",
        "colab_type": "text"
      },
      "source": [
        "<a href=\"https://colab.research.google.com/github/GHASS19/London-Housing-Case-Study/blob/main/Notebooks/London_Housing_Case_Study.ipynb\" target=\"_parent\"><img src=\"https://colab.research.google.com/assets/colab-badge.svg\" alt=\"Open In Colab\"/></a>"
      ]
    },
    {
      "cell_type": "markdown",
      "metadata": {
        "id": "Tia3MP1SJpgj"
      },
      "source": [
        "# Springboard Data Science Career Track Unit 4 Challenge/London Housing Case Study - Tier 3 Complete\n",
        "\n",
        "## Objectives\n",
        "Hey! Great job getting through those challenging DataCamp courses. You're learning a lot in a short span of time. \n",
        "\n",
        "In this notebook, you're going to apply the skills you've been learning, bridging the gap between the controlled environment of DataCamp and the *slightly* messier work that data scientists do with actual datasets!\n",
        "\n",
        "Here’s the mystery we’re going to solve: ***which boroughs of London have seen the greatest increase in housing prices, on average, over the last two decades?***\n",
        "\n",
        "\n",
        "A borough is just a fancy word for district. You may be familiar with the five boroughs of New York… well, there are 32 boroughs within Greater London [(here's some info for the curious)](https://en.wikipedia.org/wiki/London_boroughs). Some of them are more desirable areas to live in, and the data will reflect that with a greater rise in housing prices.\n",
        "\n",
        "***This is the Tier 3 notebook, which means it's not filled in at all: we'll just give you the skeleton of a project, the brief and the data. It's up to you to play around with it and see what you can find out! Good luck! If you struggle, feel free to look at easier tiers for help; but try to dip in and out of them, as the more independent work you do, the better it is for your learning!***\n",
        "\n",
        "This challenge will make use of only what you learned in the following DataCamp courses: \n",
        "- Prework courses (Introduction to Python for Data Science, Intermediate Python for Data Science)\n",
        "- Data Types for Data Science\n",
        "- Python Data Science Toolbox (Part One) \n",
        "- pandas Foundations\n",
        "- Manipulating DataFrames with pandas\n",
        "- Merging DataFrames with pandas\n",
        "\n",
        "Of the tools, techniques and concepts in the above DataCamp courses, this challenge should require the application of the following: \n",
        "- **pandas**\n",
        "    - **data ingestion and inspection** (pandas Foundations, Module One) \n",
        "    - **exploratory data analysis** (pandas Foundations, Module Two)\n",
        "    - **tidying and cleaning** (Manipulating DataFrames with pandas, Module Three) \n",
        "    - **transforming DataFrames** (Manipulating DataFrames with pandas, Module One)\n",
        "    - **subsetting DataFrames with lists** (Manipulating DataFrames with pandas, Module One) \n",
        "    - **filtering DataFrames** (Manipulating DataFrames with pandas, Module One) \n",
        "    - **grouping data** (Manipulating DataFrames with pandas, Module Four) \n",
        "    - **melting data** (Manipulating DataFrames with pandas, Module Three) \n",
        "    - **advanced indexing** (Manipulating DataFrames with pandas, Module Four) \n",
        "- **matplotlib** (Intermediate Python for Data Science, Module One)\n",
        "- **fundamental data types** (Data Types for Data Science, Module One) \n",
        "- **dictionaries** (Intermediate Python for Data Science, Module Two)\n",
        "- **handling dates and times** (Data Types for Data Science, Module Four)\n",
        "- **function definition** (Python Data Science Toolbox - Part One, Module One)\n",
        "- **default arguments, variable length, and scope** (Python Data Science Toolbox - Part One, Module Two) \n",
        "- **lambda functions and error handling** (Python Data Science Toolbox - Part One, Module Four) "
      ]
    },
    {
      "cell_type": "markdown",
      "metadata": {
        "id": "Ipgd2nV8Jpgl"
      },
      "source": [
        "## The Data Science Pipeline\n",
        "\n",
        "This is Tier Three, so we'll get you started. But after that, it's all in your hands! When you feel done with your investigations, look back over what you've accomplished, and prepare a quick presentation of your findings for the next mentor meeting. \n",
        "\n",
        "Data Science is magical. In this case study, you'll get to apply some complex machine learning algorithms. But as  [David Spiegelhalter](https://www.youtube.com/watch?v=oUs1uvsz0Ok) reminds us, there is no substitute for simply **taking a really, really good look at the data.** Sometimes, this is all we need to answer our question.\n",
        "\n",
        "Data Science projects generally adhere to the four stages of Data Science Pipeline:\n",
        "1. Sourcing and loading \n",
        "2. Cleaning, transforming, and visualizing \n",
        "3. Modeling \n",
        "4. Evaluating and concluding \n"
      ]
    },
    {
      "cell_type": "markdown",
      "metadata": {
        "id": "zswDqbefJpgm"
      },
      "source": [
        "### 1. Sourcing and Loading \n",
        "\n",
        "Any Data Science project kicks off by importing  ***pandas***. The documentation of this wonderful library can be found [here](https://pandas.pydata.org/). As you've seen, pandas is conveniently connected to the [Numpy](http://www.numpy.org/) and [Matplotlib](https://matplotlib.org/) libraries. \n",
        "\n",
        "***Hint:*** This part of the data science pipeline will test those skills you acquired in the pandas Foundations course, Module One. "
      ]
    },
    {
      "cell_type": "markdown",
      "metadata": {
        "id": "aEau5nEvJpgm"
      },
      "source": [
        "#### 1.1. Importing Libraries"
      ]
    },
    {
      "cell_type": "code",
      "metadata": {
        "id": "7Bt_Q_oPJpgn"
      },
      "source": [
        "# Let's import the pandas, numpy libraries as pd, and np respectively. \n",
        "import pandas as pd\n",
        "import numpy as np\n",
        "\n",
        "# Load the pyplot collection of functions from matplotlib, as plt \n",
        "import matplotlib.pyplot as plt "
      ],
      "execution_count": null,
      "outputs": []
    },
    {
      "cell_type": "markdown",
      "metadata": {
        "id": "koUrawxsJpgq"
      },
      "source": [
        "#### 1.2.  Loading the data\n",
        "Your data comes from the [London Datastore](https://data.london.gov.uk/): a free, open-source data-sharing portal for London-oriented datasets. "
      ]
    },
    {
      "cell_type": "code",
      "metadata": {
        "id": "AiLiD4v3Jpgr"
      },
      "source": [
        "# First, make a variable called url_LondonHousePrices, and assign it the following link, enclosed in quotation-marks as a string:\n",
        "# https://data.london.gov.uk/download/uk-house-price-index/70ac0766-8902-4eb5-aab5-01951aaed773/UK%20House%20price%20index.xls\n",
        "\n",
        "url_LondonHousePrices= \"https://data.london.gov.uk/download/uk-house-price-index/70ac0766-8902-4eb5-aab5-01951aaed773/UK%20House%20price%20index.xls\"\n",
        "\n",
        "# The dataset we're interested in contains the Average prices of the houses, and is actually on a particular sheet of the Excel file. \n",
        "# As a result, we need to specify the sheet name in the read_excel() method.\n",
        "# Put this data into a variable called properties.  \n",
        "properties = pd.read_excel(url_LondonHousePrices, sheet_name='Average price', index_col= None)"
      ],
      "execution_count": null,
      "outputs": []
    },
    {
      "cell_type": "markdown",
      "metadata": {
        "id": "POukEJXgJpgu"
      },
      "source": [
        "### 2. Cleaning, transforming, and visualizing\n",
        "This second stage is arguably the most important part of any Data Science project. The first thing to do is take a proper look at the data. Cleaning forms the majority of this stage, and can be done both before or after Transformation.\n",
        "\n",
        "The end goal of data cleaning is to have tidy data. When data is tidy: \n",
        "\n",
        "1. Each variable has a column.\n",
        "2. Each observation forms a row.\n",
        "\n",
        "Keep the end goal in mind as you move through this process, every step will take you closer. \n",
        "\n",
        "\n",
        "\n",
        "***Hint:*** This part of the data science pipeline should test those skills you acquired in: \n",
        "- Intermediate Python for data science, all modules.\n",
        "- pandas Foundations, all modules. \n",
        "- Manipulating DataFrames with pandas, all modules.\n",
        "- Data Types for Data Science, Module Four.\n",
        "- Python Data Science Toolbox - Part One, all modules"
      ]
    },
    {
      "cell_type": "markdown",
      "metadata": {
        "id": "Te0Q548tnzZa"
      },
      "source": [
        "**2.1. Exploring your data** \n",
        "\n",
        "Think about your pandas functions for checking out a dataframe. "
      ]
    },
    {
      "cell_type": "code",
      "metadata": {
        "colab": {
          "base_uri": "https://localhost:8080/"
        },
        "id": "Rxirxw_qoAJa",
        "outputId": "8807200a-b19f-4167-f237-b0c284e98573"
      },
      "source": [
        "properties.shape\n",
        "\n"
      ],
      "execution_count": null,
      "outputs": [
        {
          "output_type": "execute_result",
          "data": {
            "text/plain": [
              "(320, 49)"
            ]
          },
          "metadata": {},
          "execution_count": 5
        }
      ]
    },
    {
      "cell_type": "markdown",
      "metadata": {
        "id": "tE9Sqt9-oAta"
      },
      "source": [
        "**2.2. Cleaning the data**\n",
        "\n",
        "You might find you need to transpose your dataframe, check out what its row indexes are, and reset the index. You  also might find you need to assign the values of the first row to your column headings  . (Hint: recall the .columns feature of DataFrames, as well as the iloc[] method).\n",
        "\n",
        "Don't be afraid to use StackOverflow for help  with this."
      ]
    },
    {
      "cell_type": "code",
      "metadata": {
        "id": "cdAu1A3YoH_r"
      },
      "source": [],
      "execution_count": null,
      "outputs": []
    },
    {
      "cell_type": "code",
      "metadata": {
        "id": "28P8-GkeoQu_"
      },
      "source": [
        "properties_T = properties.T\n",
        "properties_T.index\n",
        "properties_T = properties_T.reset_index()\n",
        "properties_T.columns\n",
        "properties_T.iloc[[0]]\n",
        "properties_T.columns = properties_T.iloc[0]\n",
        "properties_T = properties_T.drop(0)\n"
      ],
      "execution_count": null,
      "outputs": []
    },
    {
      "cell_type": "markdown",
      "metadata": {
        "id": "o1uLbJAsoIjK"
      },
      "source": [
        "**2.3. Cleaning the data (part 2)**\n",
        "\n",
        "You might we have to **rename** a couple columns. How do you do this? The clue's pretty bold..."
      ]
    },
    {
      "cell_type": "code",
      "metadata": {
        "id": "GKkmn1AnoVZS"
      },
      "source": [
        "\n"
      ],
      "execution_count": null,
      "outputs": []
    },
    {
      "cell_type": "code",
      "metadata": {
        "id": "okin_8huoQve"
      },
      "source": [
        "# Try this here. \n",
        "properties_T = properties_T.rename(columns = {'Unnamed: 0':'London_Borough', pd.NaT: 'ID'})\n",
        "\n",
        "\n",
        "\n",
        "\n",
        "\n"
      ],
      "execution_count": null,
      "outputs": []
    },
    {
      "cell_type": "code",
      "metadata": {
        "id": "q461V2LuMXqu",
        "colab": {
          "base_uri": "https://localhost:8080/",
          "height": 304
        },
        "outputId": "a87b950d-75cd-4090-c55c-7d58b7050d04"
      },
      "source": [
        "properties_T.head()"
      ],
      "execution_count": null,
      "outputs": [
        {
          "output_type": "execute_result",
          "data": {
            "text/html": [
              "<div>\n",
              "<style scoped>\n",
              "    .dataframe tbody tr th:only-of-type {\n",
              "        vertical-align: middle;\n",
              "    }\n",
              "\n",
              "    .dataframe tbody tr th {\n",
              "        vertical-align: top;\n",
              "    }\n",
              "\n",
              "    .dataframe thead th {\n",
              "        text-align: right;\n",
              "    }\n",
              "</style>\n",
              "<table border=\"1\" class=\"dataframe\">\n",
              "  <thead>\n",
              "    <tr style=\"text-align: right;\">\n",
              "      <th></th>\n",
              "      <th>London_Borough</th>\n",
              "      <th>ID</th>\n",
              "      <th>1995-01-01 00:00:00</th>\n",
              "      <th>1995-02-01 00:00:00</th>\n",
              "      <th>1995-03-01 00:00:00</th>\n",
              "      <th>1995-04-01 00:00:00</th>\n",
              "      <th>1995-05-01 00:00:00</th>\n",
              "      <th>1995-06-01 00:00:00</th>\n",
              "      <th>1995-07-01 00:00:00</th>\n",
              "      <th>1995-08-01 00:00:00</th>\n",
              "      <th>1995-09-01 00:00:00</th>\n",
              "      <th>1995-10-01 00:00:00</th>\n",
              "      <th>1995-11-01 00:00:00</th>\n",
              "      <th>1995-12-01 00:00:00</th>\n",
              "      <th>1996-01-01 00:00:00</th>\n",
              "      <th>1996-02-01 00:00:00</th>\n",
              "      <th>1996-03-01 00:00:00</th>\n",
              "      <th>1996-04-01 00:00:00</th>\n",
              "      <th>1996-05-01 00:00:00</th>\n",
              "      <th>1996-06-01 00:00:00</th>\n",
              "      <th>1996-07-01 00:00:00</th>\n",
              "      <th>1996-08-01 00:00:00</th>\n",
              "      <th>1996-09-01 00:00:00</th>\n",
              "      <th>1996-10-01 00:00:00</th>\n",
              "      <th>1996-11-01 00:00:00</th>\n",
              "      <th>1996-12-01 00:00:00</th>\n",
              "      <th>1997-01-01 00:00:00</th>\n",
              "      <th>1997-02-01 00:00:00</th>\n",
              "      <th>1997-03-01 00:00:00</th>\n",
              "      <th>1997-04-01 00:00:00</th>\n",
              "      <th>1997-05-01 00:00:00</th>\n",
              "      <th>1997-06-01 00:00:00</th>\n",
              "      <th>1997-07-01 00:00:00</th>\n",
              "      <th>1997-08-01 00:00:00</th>\n",
              "      <th>1997-09-01 00:00:00</th>\n",
              "      <th>1997-10-01 00:00:00</th>\n",
              "      <th>1997-11-01 00:00:00</th>\n",
              "      <th>1997-12-01 00:00:00</th>\n",
              "      <th>1998-01-01 00:00:00</th>\n",
              "      <th>1998-02-01 00:00:00</th>\n",
              "      <th>...</th>\n",
              "      <th>2018-04-01 00:00:00</th>\n",
              "      <th>2018-05-01 00:00:00</th>\n",
              "      <th>2018-06-01 00:00:00</th>\n",
              "      <th>2018-07-01 00:00:00</th>\n",
              "      <th>2018-08-01 00:00:00</th>\n",
              "      <th>2018-09-01 00:00:00</th>\n",
              "      <th>2018-10-01 00:00:00</th>\n",
              "      <th>2018-11-01 00:00:00</th>\n",
              "      <th>2018-12-01 00:00:00</th>\n",
              "      <th>2019-01-01 00:00:00</th>\n",
              "      <th>2019-02-01 00:00:00</th>\n",
              "      <th>2019-03-01 00:00:00</th>\n",
              "      <th>2019-04-01 00:00:00</th>\n",
              "      <th>2019-05-01 00:00:00</th>\n",
              "      <th>2019-06-01 00:00:00</th>\n",
              "      <th>2019-07-01 00:00:00</th>\n",
              "      <th>2019-08-01 00:00:00</th>\n",
              "      <th>2019-09-01 00:00:00</th>\n",
              "      <th>2019-10-01 00:00:00</th>\n",
              "      <th>2019-11-01 00:00:00</th>\n",
              "      <th>2019-12-01 00:00:00</th>\n",
              "      <th>2020-01-01 00:00:00</th>\n",
              "      <th>2020-02-01 00:00:00</th>\n",
              "      <th>2020-03-01 00:00:00</th>\n",
              "      <th>2020-04-01 00:00:00</th>\n",
              "      <th>2020-05-01 00:00:00</th>\n",
              "      <th>2020-06-01 00:00:00</th>\n",
              "      <th>2020-07-01 00:00:00</th>\n",
              "      <th>2020-08-01 00:00:00</th>\n",
              "      <th>2020-09-01 00:00:00</th>\n",
              "      <th>2020-10-01 00:00:00</th>\n",
              "      <th>2020-11-01 00:00:00</th>\n",
              "      <th>2020-12-01 00:00:00</th>\n",
              "      <th>2021-01-01 00:00:00</th>\n",
              "      <th>2021-02-01 00:00:00</th>\n",
              "      <th>2021-03-01 00:00:00</th>\n",
              "      <th>2021-04-01 00:00:00</th>\n",
              "      <th>2021-05-01 00:00:00</th>\n",
              "      <th>2021-06-01 00:00:00</th>\n",
              "      <th>2021-07-01 00:00:00</th>\n",
              "    </tr>\n",
              "  </thead>\n",
              "  <tbody>\n",
              "    <tr>\n",
              "      <th>1</th>\n",
              "      <td>City of London</td>\n",
              "      <td>E09000001</td>\n",
              "      <td>91449</td>\n",
              "      <td>82202.8</td>\n",
              "      <td>79120.7</td>\n",
              "      <td>77101.2</td>\n",
              "      <td>84409.1</td>\n",
              "      <td>94900.5</td>\n",
              "      <td>110128</td>\n",
              "      <td>112329</td>\n",
              "      <td>104473</td>\n",
              "      <td>108038</td>\n",
              "      <td>117636</td>\n",
              "      <td>127232</td>\n",
              "      <td>108999</td>\n",
              "      <td>93356.7</td>\n",
              "      <td>93706.7</td>\n",
              "      <td>120543</td>\n",
              "      <td>112050</td>\n",
              "      <td>114226</td>\n",
              "      <td>97546.7</td>\n",
              "      <td>114179</td>\n",
              "      <td>108138</td>\n",
              "      <td>98934.2</td>\n",
              "      <td>99706.8</td>\n",
              "      <td>106427</td>\n",
              "      <td>116343</td>\n",
              "      <td>111142</td>\n",
              "      <td>107488</td>\n",
              "      <td>108480</td>\n",
              "      <td>115453</td>\n",
              "      <td>118317</td>\n",
              "      <td>117034</td>\n",
              "      <td>113585</td>\n",
              "      <td>115159</td>\n",
              "      <td>121251</td>\n",
              "      <td>131074</td>\n",
              "      <td>130035</td>\n",
              "      <td>124382</td>\n",
              "      <td>143829</td>\n",
              "      <td>...</td>\n",
              "      <td>732351</td>\n",
              "      <td>796399</td>\n",
              "      <td>789278</td>\n",
              "      <td>809697</td>\n",
              "      <td>784144</td>\n",
              "      <td>800875</td>\n",
              "      <td>802869</td>\n",
              "      <td>764207</td>\n",
              "      <td>811694</td>\n",
              "      <td>865636</td>\n",
              "      <td>894520</td>\n",
              "      <td>853451</td>\n",
              "      <td>738797</td>\n",
              "      <td>719218</td>\n",
              "      <td>761526</td>\n",
              "      <td>756407</td>\n",
              "      <td>813770</td>\n",
              "      <td>810455</td>\n",
              "      <td>826227</td>\n",
              "      <td>772325</td>\n",
              "      <td>757730</td>\n",
              "      <td>773786</td>\n",
              "      <td>800016</td>\n",
              "      <td>836241</td>\n",
              "      <td>920444</td>\n",
              "      <td>918209</td>\n",
              "      <td>882872</td>\n",
              "      <td>786627</td>\n",
              "      <td>827659</td>\n",
              "      <td>798499</td>\n",
              "      <td>836807</td>\n",
              "      <td>769392</td>\n",
              "      <td>801999</td>\n",
              "      <td>758223</td>\n",
              "      <td>726755</td>\n",
              "      <td>716135</td>\n",
              "      <td>760052</td>\n",
              "      <td>776621</td>\n",
              "      <td>801233</td>\n",
              "      <td>705091</td>\n",
              "    </tr>\n",
              "    <tr>\n",
              "      <th>2</th>\n",
              "      <td>Barking &amp; Dagenham</td>\n",
              "      <td>E09000002</td>\n",
              "      <td>50460.2</td>\n",
              "      <td>51085.8</td>\n",
              "      <td>51269</td>\n",
              "      <td>53133.5</td>\n",
              "      <td>53042.2</td>\n",
              "      <td>53700.3</td>\n",
              "      <td>52113.1</td>\n",
              "      <td>52232.2</td>\n",
              "      <td>51471.6</td>\n",
              "      <td>51513.8</td>\n",
              "      <td>50848.7</td>\n",
              "      <td>50945.2</td>\n",
              "      <td>50828.1</td>\n",
              "      <td>51440.7</td>\n",
              "      <td>51907.1</td>\n",
              "      <td>51724</td>\n",
              "      <td>51735.7</td>\n",
              "      <td>50761.4</td>\n",
              "      <td>50621.1</td>\n",
              "      <td>51104.7</td>\n",
              "      <td>51892.7</td>\n",
              "      <td>52533.2</td>\n",
              "      <td>52216</td>\n",
              "      <td>53853.5</td>\n",
              "      <td>54459</td>\n",
              "      <td>55451.5</td>\n",
              "      <td>55004.8</td>\n",
              "      <td>55279.9</td>\n",
              "      <td>54936.9</td>\n",
              "      <td>55286.7</td>\n",
              "      <td>55658.9</td>\n",
              "      <td>56506.7</td>\n",
              "      <td>56306.3</td>\n",
              "      <td>57200.2</td>\n",
              "      <td>57575.3</td>\n",
              "      <td>58025</td>\n",
              "      <td>57559</td>\n",
              "      <td>57360.3</td>\n",
              "      <td>...</td>\n",
              "      <td>291184</td>\n",
              "      <td>290239</td>\n",
              "      <td>294236</td>\n",
              "      <td>294953</td>\n",
              "      <td>295908</td>\n",
              "      <td>296424</td>\n",
              "      <td>299648</td>\n",
              "      <td>302606</td>\n",
              "      <td>301114</td>\n",
              "      <td>297181</td>\n",
              "      <td>293839</td>\n",
              "      <td>294065</td>\n",
              "      <td>295498</td>\n",
              "      <td>295092</td>\n",
              "      <td>293889</td>\n",
              "      <td>297426</td>\n",
              "      <td>299421</td>\n",
              "      <td>304778</td>\n",
              "      <td>304579</td>\n",
              "      <td>304515</td>\n",
              "      <td>299771</td>\n",
              "      <td>303055</td>\n",
              "      <td>302697</td>\n",
              "      <td>301413</td>\n",
              "      <td>293603</td>\n",
              "      <td>293816</td>\n",
              "      <td>300526</td>\n",
              "      <td>304556</td>\n",
              "      <td>304924</td>\n",
              "      <td>301702</td>\n",
              "      <td>304852</td>\n",
              "      <td>305012</td>\n",
              "      <td>309560</td>\n",
              "      <td>312407</td>\n",
              "      <td>315580</td>\n",
              "      <td>312628</td>\n",
              "      <td>313598</td>\n",
              "      <td>312605</td>\n",
              "      <td>318517</td>\n",
              "      <td>322949</td>\n",
              "    </tr>\n",
              "    <tr>\n",
              "      <th>3</th>\n",
              "      <td>Barnet</td>\n",
              "      <td>E09000003</td>\n",
              "      <td>93284.5</td>\n",
              "      <td>93190.2</td>\n",
              "      <td>92247.5</td>\n",
              "      <td>90762.9</td>\n",
              "      <td>90258</td>\n",
              "      <td>90107.2</td>\n",
              "      <td>91441.2</td>\n",
              "      <td>92361.3</td>\n",
              "      <td>93273.1</td>\n",
              "      <td>92567.4</td>\n",
              "      <td>90883.2</td>\n",
              "      <td>91133.9</td>\n",
              "      <td>91111</td>\n",
              "      <td>92429.5</td>\n",
              "      <td>91409.8</td>\n",
              "      <td>92394.2</td>\n",
              "      <td>91058.9</td>\n",
              "      <td>91978.2</td>\n",
              "      <td>92444.1</td>\n",
              "      <td>95516</td>\n",
              "      <td>97489.9</td>\n",
              "      <td>97844.5</td>\n",
              "      <td>97155</td>\n",
              "      <td>97174.3</td>\n",
              "      <td>98558.8</td>\n",
              "      <td>100076</td>\n",
              "      <td>101130</td>\n",
              "      <td>101201</td>\n",
              "      <td>103287</td>\n",
              "      <td>104609</td>\n",
              "      <td>107235</td>\n",
              "      <td>108730</td>\n",
              "      <td>112380</td>\n",
              "      <td>114515</td>\n",
              "      <td>115356</td>\n",
              "      <td>115521</td>\n",
              "      <td>115902</td>\n",
              "      <td>116995</td>\n",
              "      <td>...</td>\n",
              "      <td>541502</td>\n",
              "      <td>533088</td>\n",
              "      <td>524702</td>\n",
              "      <td>523397</td>\n",
              "      <td>533715</td>\n",
              "      <td>534951</td>\n",
              "      <td>537284</td>\n",
              "      <td>535060</td>\n",
              "      <td>533810</td>\n",
              "      <td>528639</td>\n",
              "      <td>523679</td>\n",
              "      <td>516531</td>\n",
              "      <td>512343</td>\n",
              "      <td>503911</td>\n",
              "      <td>512694</td>\n",
              "      <td>514668</td>\n",
              "      <td>528577</td>\n",
              "      <td>526670</td>\n",
              "      <td>525678</td>\n",
              "      <td>530343</td>\n",
              "      <td>522552</td>\n",
              "      <td>521434</td>\n",
              "      <td>516660</td>\n",
              "      <td>522115</td>\n",
              "      <td>526689</td>\n",
              "      <td>526033</td>\n",
              "      <td>518175</td>\n",
              "      <td>523280</td>\n",
              "      <td>529660</td>\n",
              "      <td>533619</td>\n",
              "      <td>530354</td>\n",
              "      <td>528816</td>\n",
              "      <td>532528</td>\n",
              "      <td>537359</td>\n",
              "      <td>536018</td>\n",
              "      <td>537927</td>\n",
              "      <td>530345</td>\n",
              "      <td>533994</td>\n",
              "      <td>543215</td>\n",
              "      <td>536926</td>\n",
              "    </tr>\n",
              "    <tr>\n",
              "      <th>4</th>\n",
              "      <td>Bexley</td>\n",
              "      <td>E09000004</td>\n",
              "      <td>64958.1</td>\n",
              "      <td>64787.9</td>\n",
              "      <td>64367.5</td>\n",
              "      <td>64277.7</td>\n",
              "      <td>63997.1</td>\n",
              "      <td>64252.3</td>\n",
              "      <td>63722.7</td>\n",
              "      <td>64432.6</td>\n",
              "      <td>64509.5</td>\n",
              "      <td>64529.9</td>\n",
              "      <td>63846</td>\n",
              "      <td>63816.9</td>\n",
              "      <td>63996</td>\n",
              "      <td>64503.7</td>\n",
              "      <td>64788</td>\n",
              "      <td>65285.9</td>\n",
              "      <td>65080.7</td>\n",
              "      <td>65119.8</td>\n",
              "      <td>65150.6</td>\n",
              "      <td>65960.2</td>\n",
              "      <td>66500.6</td>\n",
              "      <td>66659.3</td>\n",
              "      <td>66353.8</td>\n",
              "      <td>66486.4</td>\n",
              "      <td>67350.6</td>\n",
              "      <td>67981.2</td>\n",
              "      <td>67823.8</td>\n",
              "      <td>68470.5</td>\n",
              "      <td>69353.5</td>\n",
              "      <td>70764.1</td>\n",
              "      <td>71129.8</td>\n",
              "      <td>72140.7</td>\n",
              "      <td>72830.3</td>\n",
              "      <td>73378.8</td>\n",
              "      <td>73619.6</td>\n",
              "      <td>74630.1</td>\n",
              "      <td>76863.5</td>\n",
              "      <td>78064.9</td>\n",
              "      <td>...</td>\n",
              "      <td>338476</td>\n",
              "      <td>336410</td>\n",
              "      <td>341480</td>\n",
              "      <td>345693</td>\n",
              "      <td>347531</td>\n",
              "      <td>346151</td>\n",
              "      <td>344681</td>\n",
              "      <td>344172</td>\n",
              "      <td>343667</td>\n",
              "      <td>338708</td>\n",
              "      <td>339186</td>\n",
              "      <td>336680</td>\n",
              "      <td>339330</td>\n",
              "      <td>336981</td>\n",
              "      <td>339324</td>\n",
              "      <td>338346</td>\n",
              "      <td>337523</td>\n",
              "      <td>333340</td>\n",
              "      <td>332920</td>\n",
              "      <td>333170</td>\n",
              "      <td>338347</td>\n",
              "      <td>336780</td>\n",
              "      <td>339026</td>\n",
              "      <td>339182</td>\n",
              "      <td>341553</td>\n",
              "      <td>339353</td>\n",
              "      <td>340893</td>\n",
              "      <td>344091</td>\n",
              "      <td>346680</td>\n",
              "      <td>345061</td>\n",
              "      <td>345405</td>\n",
              "      <td>346253</td>\n",
              "      <td>352261</td>\n",
              "      <td>355869</td>\n",
              "      <td>359059</td>\n",
              "      <td>361700</td>\n",
              "      <td>362289</td>\n",
              "      <td>360495</td>\n",
              "      <td>362509</td>\n",
              "      <td>366710</td>\n",
              "    </tr>\n",
              "    <tr>\n",
              "      <th>5</th>\n",
              "      <td>Brent</td>\n",
              "      <td>E09000005</td>\n",
              "      <td>71306.6</td>\n",
              "      <td>72022.3</td>\n",
              "      <td>72015.8</td>\n",
              "      <td>72965.6</td>\n",
              "      <td>73704</td>\n",
              "      <td>74310.5</td>\n",
              "      <td>74127</td>\n",
              "      <td>73547</td>\n",
              "      <td>73789.5</td>\n",
              "      <td>73264.1</td>\n",
              "      <td>72782</td>\n",
              "      <td>72523.7</td>\n",
              "      <td>72806.3</td>\n",
              "      <td>73084.1</td>\n",
              "      <td>72779.8</td>\n",
              "      <td>72369.7</td>\n",
              "      <td>72994.8</td>\n",
              "      <td>73497.6</td>\n",
              "      <td>75551.2</td>\n",
              "      <td>76913.7</td>\n",
              "      <td>78667.1</td>\n",
              "      <td>77990.9</td>\n",
              "      <td>77914.2</td>\n",
              "      <td>78261.6</td>\n",
              "      <td>79664</td>\n",
              "      <td>81213.2</td>\n",
              "      <td>82321.9</td>\n",
              "      <td>82771</td>\n",
              "      <td>82729.7</td>\n",
              "      <td>83876.3</td>\n",
              "      <td>87636.9</td>\n",
              "      <td>90164</td>\n",
              "      <td>91472.6</td>\n",
              "      <td>92208.2</td>\n",
              "      <td>92895.5</td>\n",
              "      <td>94035.6</td>\n",
              "      <td>93746</td>\n",
              "      <td>95171.5</td>\n",
              "      <td>...</td>\n",
              "      <td>485434</td>\n",
              "      <td>480836</td>\n",
              "      <td>492743</td>\n",
              "      <td>505028</td>\n",
              "      <td>519754</td>\n",
              "      <td>510930</td>\n",
              "      <td>493489</td>\n",
              "      <td>479104</td>\n",
              "      <td>476356</td>\n",
              "      <td>479106</td>\n",
              "      <td>478494</td>\n",
              "      <td>475430</td>\n",
              "      <td>486253</td>\n",
              "      <td>481803</td>\n",
              "      <td>474821</td>\n",
              "      <td>473849</td>\n",
              "      <td>488784</td>\n",
              "      <td>501533</td>\n",
              "      <td>494770</td>\n",
              "      <td>435981</td>\n",
              "      <td>425958</td>\n",
              "      <td>428085</td>\n",
              "      <td>468311</td>\n",
              "      <td>466250</td>\n",
              "      <td>470601</td>\n",
              "      <td>482808</td>\n",
              "      <td>484160</td>\n",
              "      <td>482303</td>\n",
              "      <td>497729</td>\n",
              "      <td>519562</td>\n",
              "      <td>522239</td>\n",
              "      <td>513101</td>\n",
              "      <td>495067</td>\n",
              "      <td>511212</td>\n",
              "      <td>512929</td>\n",
              "      <td>518125</td>\n",
              "      <td>501308</td>\n",
              "      <td>506219</td>\n",
              "      <td>516633</td>\n",
              "      <td>535095</td>\n",
              "    </tr>\n",
              "  </tbody>\n",
              "</table>\n",
              "<p>5 rows × 321 columns</p>\n",
              "</div>"
            ],
            "text/plain": [
              "0      London_Borough         ID  ... 2021-06-01 00:00:00 2021-07-01 00:00:00\n",
              "1      City of London  E09000001  ...              801233              705091\n",
              "2  Barking & Dagenham  E09000002  ...              318517              322949\n",
              "3              Barnet  E09000003  ...              543215              536926\n",
              "4              Bexley  E09000004  ...              362509              366710\n",
              "5               Brent  E09000005  ...              516633              535095\n",
              "\n",
              "[5 rows x 321 columns]"
            ]
          },
          "metadata": {},
          "execution_count": 8
        }
      ]
    },
    {
      "cell_type": "markdown",
      "metadata": {
        "id": "jy8BzXHmoWEw"
      },
      "source": [
        "**2.4.Transforming the data**\n",
        "\n",
        "Remember what Wes McKinney said about tidy data? \n",
        "\n",
        "You might need to **melt** your DataFrame here. "
      ]
    },
    {
      "cell_type": "code",
      "metadata": {
        "id": "GZeESmyLX8wG"
      },
      "source": [
        "# Try this here: \n",
        "clean_properties = pd.melt(properties_T, id_vars= ['London_Borough', 'ID'])\n",
        "\n",
        "\n",
        "\n",
        "\n"
      ],
      "execution_count": null,
      "outputs": []
    },
    {
      "cell_type": "code",
      "metadata": {
        "id": "79DEx9_OZffY"
      },
      "source": [
        "# Re-name the column names\n",
        "clean_properties = clean_properties.rename(columns = {0: 'Month', 'value': 'Average_price'})\n",
        "clean_properties['Average_price'] = pd.to_numeric(clean_properties['Average_price'])"
      ],
      "execution_count": null,
      "outputs": []
    },
    {
      "cell_type": "markdown",
      "metadata": {
        "id": "7kIsgAo7o3mf"
      },
      "source": [
        "Remember to make sure your column data types are all correct. Average prices, for example, should be floating point numbers... "
      ]
    },
    {
      "cell_type": "markdown",
      "metadata": {
        "id": "knLUXHLypOtw"
      },
      "source": [
        "**2.5. Cleaning the data (part 3)**\n",
        "\n",
        "Do we have an equal number of observations in the ID, Average Price, Month, and London Borough columns? Remember that there are only 32 London Boroughs. How many entries do you have in that column? \n",
        "\n",
        "Check out the contents of the London Borough column, and if you find null values, get rid of them however you see fit. "
      ]
    },
    {
      "cell_type": "code",
      "metadata": {
        "id": "BnvTW5a3p0fC",
        "colab": {
          "base_uri": "https://localhost:8080/"
        },
        "outputId": "9a797f1c-4f61-4fef-b2f4-b6c18437920e"
      },
      "source": [],
      "execution_count": null,
      "outputs": [
        {
          "output_type": "stream",
          "name": "stdout",
          "text": [
            "2\n"
          ]
        }
      ]
    },
    {
      "cell_type": "code",
      "metadata": {
        "colab": {
          "base_uri": "https://localhost:8080/"
        },
        "id": "NeMCe5LnoQv1",
        "outputId": "fde81aae-9c9f-408e-fc4b-8b80968cd04f"
      },
      "source": [
        "# Do this here. \n",
        "clean_properties['London_Borough'].unique()\n",
        "clean_properties[clean_properties['London_Borough'] == 'Unnamed: 34'].head()\n",
        "clean_properties[clean_properties['ID'].isna()]\n",
        "NaNFreeDF1 = clean_properties['Average_price'].notna()\n",
        "NaNFreeDF2 = clean_properties.dropna()\n",
        "NaNFreeDF2['London_Borough'].unique()\n",
        "print(clean_properties.shape)\n",
        "print(NaNFreeDF1.shape)\n",
        "print(NaNFreeDF2.shape)\n",
        "nonBoroughs = ['Inner London', 'Outer London', \n",
        "               'NORTH EAST', 'NORTH WEST', 'YORKS & THE HUMBER', \n",
        "               'EAST MIDLANDS', 'WEST MIDLANDS',\n",
        "              'EAST OF ENGLAND', 'LONDON', 'SOUTH EAST', \n",
        "              'SOUTH WEST', 'England']\n",
        "NaNFreeDF2[NaNFreeDF2.London_Borough.isin(nonBoroughs)]\n",
        "NaNFreeDF2['London_Borough' != NaNFreeDF2.London_Borough.isin(nonBoroughs)]\n",
        "NaNFreeDF2 = NaNFreeDF2[~NaNFreeDF2.London_Borough.isin(nonBoroughs)]\n",
        "df = NaNFreeDF2"
      ],
      "execution_count": null,
      "outputs": [
        {
          "output_type": "stream",
          "name": "stdout",
          "text": [
            "(15312, 4)\n",
            "(15312,)\n",
            "(14355, 4)\n"
          ]
        }
      ]
    },
    {
      "cell_type": "markdown",
      "metadata": {
        "id": "PGEx6mJsp6dG"
      },
      "source": [
        "**2.6. Visualizing the data**\n",
        "\n",
        "To visualize the data, why not subset on a particular London Borough? Maybe do a line plot of Month against Average Price?"
      ]
    },
    {
      "cell_type": "code",
      "metadata": {
        "id": "nAg5pT9cqHAR",
        "colab": {
          "base_uri": "https://localhost:8080/",
          "height": 296
        },
        "outputId": "b9feed76-23ad-4d10-953b-06ece918b0d1"
      },
      "source": [
        "brent_prices = df[df['London_Borough'] == 'Brent']\n",
        "\n",
        "bx = brent_prices.plot(kind='line', x = 'Month', y='Average_price')\n",
        " \n",
        "bx.set_ylabel('Price')"
      ],
      "execution_count": null,
      "outputs": [
        {
          "output_type": "execute_result",
          "data": {
            "text/plain": [
              "Text(0, 0.5, 'Price')"
            ]
          },
          "metadata": {},
          "execution_count": 25
        },
        {
          "output_type": "display_data",
          "data": {
            "image/png": "[encoded data removed]",
            "text/plain": [
              "<Figure size 432x288 with 1 Axes>"
            ]
          },
          "metadata": {
            "needs_background": "light"
          }
        }
      ]
    },
    {
      "cell_type": "markdown",
      "metadata": {
        "id": "aWTPqSJeqHnC"
      },
      "source": [
        "To limit the number of data points you have, you might want to extract the year from every month value your *Month* column. \n",
        "\n",
        "To this end, you *could* apply a ***lambda function***. Your logic could work as follows:\n",
        "1. look through the `Month` column\n",
        "2. extract the year from each individual value in that column \n",
        "3. store that corresponding year as separate column. \n",
        "\n",
        "Whether you go ahead with this is up to you. Just so long as you answer our initial brief: which boroughs of London have seen the greatest house price increase, on average, over the past two decades? "
      ]
    },
    {
      "cell_type": "code",
      "metadata": {
        "id": "e0DF92cyqnu8",
        "colab": {
          "base_uri": "https://localhost:8080/",
          "height": 204
        },
        "outputId": "d7f19b2b-29c4-4adc-9a14-3dfefb73a001"
      },
      "source": [
        "df['Year'] = df['Month'].apply(lambda t: t.year)\n",
        "\n",
        "df.tail()\n",
        "\n",
        "dfg = df.groupby(by=['London_Borough', 'Year']).mean()\n",
        "dfg.sample(10)\n",
        "dfg = dfg.reset_index()\n",
        "dfg.head()"
      ],
      "execution_count": null,
      "outputs": [
        {
          "output_type": "execute_result",
          "data": {
            "text/html": [
              "<div>\n",
              "<style scoped>\n",
              "    .dataframe tbody tr th:only-of-type {\n",
              "        vertical-align: middle;\n",
              "    }\n",
              "\n",
              "    .dataframe tbody tr th {\n",
              "        vertical-align: top;\n",
              "    }\n",
              "\n",
              "    .dataframe thead th {\n",
              "        text-align: right;\n",
              "    }\n",
              "</style>\n",
              "<table border=\"1\" class=\"dataframe\">\n",
              "  <thead>\n",
              "    <tr style=\"text-align: right;\">\n",
              "      <th></th>\n",
              "      <th>London_Borough</th>\n",
              "      <th>Year</th>\n",
              "      <th>Average_price</th>\n",
              "    </tr>\n",
              "  </thead>\n",
              "  <tbody>\n",
              "    <tr>\n",
              "      <th>0</th>\n",
              "      <td>Barking &amp; Dagenham</td>\n",
              "      <td>1995</td>\n",
              "      <td>51817.969390</td>\n",
              "    </tr>\n",
              "    <tr>\n",
              "      <th>1</th>\n",
              "      <td>Barking &amp; Dagenham</td>\n",
              "      <td>1996</td>\n",
              "      <td>51718.192690</td>\n",
              "    </tr>\n",
              "    <tr>\n",
              "      <th>2</th>\n",
              "      <td>Barking &amp; Dagenham</td>\n",
              "      <td>1997</td>\n",
              "      <td>55974.262309</td>\n",
              "    </tr>\n",
              "    <tr>\n",
              "      <th>3</th>\n",
              "      <td>Barking &amp; Dagenham</td>\n",
              "      <td>1998</td>\n",
              "      <td>60285.821083</td>\n",
              "    </tr>\n",
              "    <tr>\n",
              "      <th>4</th>\n",
              "      <td>Barking &amp; Dagenham</td>\n",
              "      <td>1999</td>\n",
              "      <td>65320.934441</td>\n",
              "    </tr>\n",
              "  </tbody>\n",
              "</table>\n",
              "</div>"
            ],
            "text/plain": [
              "       London_Borough  Year  Average_price\n",
              "0  Barking & Dagenham  1995   51817.969390\n",
              "1  Barking & Dagenham  1996   51718.192690\n",
              "2  Barking & Dagenham  1997   55974.262309\n",
              "3  Barking & Dagenham  1998   60285.821083\n",
              "4  Barking & Dagenham  1999   65320.934441"
            ]
          },
          "metadata": {},
          "execution_count": 30
        }
      ]
    },
    {
      "cell_type": "markdown",
      "metadata": {
        "id": "2knuTxAEqoJ4"
      },
      "source": [
        "**3. Modeling**\n",
        "\n",
        "Consider creating a function that will calculate a ratio of house prices, comparing the price of a house in 2018 to the price in 1998.\n",
        "\n",
        "Consider calling this function create_price_ratio.\n",
        "\n",
        "You'd want this function to:\n",
        "1. Take a filter of dfg, specifically where this filter constrains the London_Borough, as an argument. For example, one admissible argument should be: dfg[dfg['London_Borough']=='Camden'].\n",
        "2. Get the Average Price for that Borough, for the years 1998 and 2018.\n",
        "4. Calculate the ratio of the Average Price for 1998 divided by the Average Price for 2018.\n",
        "5. Return that ratio.\n",
        "\n",
        "Once you've written this function, you ultimately want to use it to iterate through all the unique London_Boroughs and work out the ratio capturing the difference of house prices between 1998 and 2018.\n",
        "\n",
        "Bear in mind: you don't have to write a function like this if you don't want to. If you can solve the brief otherwise, then great! \n",
        "\n",
        "***Hint***: This section should test the skills you acquired in:\n",
        "- Python Data Science Toolbox - Part One, all modules"
      ]
    },
    {
      "cell_type": "code",
      "metadata": {
        "id": "cKTyr437UgDa",
        "colab": {
          "base_uri": "https://localhost:8080/",
          "height": 929
        },
        "outputId": "e21f4581-72a5-4713-ba10-222e15b76ee8"
      },
      "source": [
        "def create_price_ratio(d):\n",
        "    y1998 = float(d['Average_price'][d['Year']==1998])\n",
        "    y2018 = float(d['Average_price'][d['Year']==2018])\n",
        "    ratio = [y2018/y1998]\n",
        "    return ratio\n",
        "\n",
        "final = {}\n",
        "\n",
        "create_price_ratio(dfg[dfg['London_Borough']=='Barking & Dagenham'])\n",
        "\n",
        "for b in dfg['London_Borough'].unique():\n",
        "    \n",
        "    borough = dfg[dfg['London_Borough'] == b]\n",
        "  \n",
        "    final[b] = create_price_ratio(borough)\n",
        "\n",
        "print(final) \n",
        "\n",
        "df_ratios = pd.DataFrame(final)\n",
        "df_ratios_T = df_ratios.T\n",
        "df_ratios = df_ratios_T.reset_index()\n",
        "df_ratios.rename(columns={'index':'Borough', 0:'2018'}, inplace=True)\n",
        "top15= df_ratios.sort_values(by='2018',ascending=False).head(15)\n",
        "print(top15)\n",
        "\n",
        "ax = top15[['Borough','2018']].plot(kind='bar')\n",
        "ax.set_xticklabels(top15.Borough)"
      ],
      "execution_count": null,
      "outputs": [
        {
          "output_type": "stream",
          "name": "stdout",
          "text": [
            "{'Barking & Dagenham': [4.89661861291754], 'Barnet': [4.358195917538044], 'Bexley': [4.248977046127877], 'Brent': [4.8945544971392865], 'Bromley': [4.0947846853338765], 'Camden': [4.935353408884261], 'City of London': [5.301620377587609], 'Croydon': [4.201100280024767], 'Ealing': [4.311450902121834], 'Enfield': [4.26347158349581], 'Greenwich': [4.763036347329193], 'Hackney': [6.198285561008662], 'Hammersmith & Fulham': [4.137798101936229], 'Haringey': [5.134624964136042], 'Harrow': [4.0591964329643195], 'Havering': [4.325230371335308], 'Hillingdon': [4.2002730803844575], 'Hounslow': [3.976409106143329], 'Islington': [4.844048012802298], 'Kensington & Chelsea': [5.082465066092464], 'Kingston upon Thames': [4.270549521484271], 'Lambeth': [4.957751163514063], 'Lewisham': [5.449221041059685], 'Merton': [4.741273313294604], 'Newham': [5.305390437201879], 'Redbridge': [4.471182006097364], 'Richmond upon Thames': [4.005161895721457], 'Southwark': [5.516485302379376], 'Sutton': [4.118522608573157], 'Tower Hamlets': [4.62670104006116], 'Waltham Forest': [5.83475580932281], 'Wandsworth': [4.757709347739269], 'Westminster': [5.353565392605413]}\n",
            "                 Borough      2018\n",
            "11               Hackney  6.198286\n",
            "30        Waltham Forest  5.834756\n",
            "27             Southwark  5.516485\n",
            "22              Lewisham  5.449221\n",
            "32           Westminster  5.353565\n",
            "24                Newham  5.305390\n",
            "6         City of London  5.301620\n",
            "13              Haringey  5.134625\n",
            "19  Kensington & Chelsea  5.082465\n",
            "21               Lambeth  4.957751\n",
            "5                 Camden  4.935353\n",
            "0     Barking & Dagenham  4.896619\n",
            "3                  Brent  4.894554\n",
            "18             Islington  4.844048\n",
            "10             Greenwich  4.763036\n"
          ]
        },
        {
          "output_type": "execute_result",
          "data": {
            "text/plain": [
              "[Text(0, 0, 'Hackney'),\n",
              " Text(0, 0, 'Waltham Forest'),\n",
              " Text(0, 0, 'Southwark'),\n",
              " Text(0, 0, 'Lewisham'),\n",
              " Text(0, 0, 'Westminster'),\n",
              " Text(0, 0, 'Newham'),\n",
              " Text(0, 0, 'City of London'),\n",
              " Text(0, 0, 'Haringey'),\n",
              " Text(0, 0, 'Kensington & Chelsea'),\n",
              " Text(0, 0, 'Lambeth'),\n",
              " Text(0, 0, 'Camden'),\n",
              " Text(0, 0, 'Barking & Dagenham'),\n",
              " Text(0, 0, 'Brent'),\n",
              " Text(0, 0, 'Islington'),\n",
              " Text(0, 0, 'Greenwich')]"
            ]
          },
          "metadata": {},
          "execution_count": 37
        },
        {
          "output_type": "display_data",
          "data": {
            "image/png": "[encoded data removed]",
            "text/plain": [
              "<Figure size 432x288 with 1 Axes>"
            ]
          },
          "metadata": {
            "needs_background": "light"
          }
        }
      ]
    },
    {
      "cell_type": "markdown",
      "metadata": {
        "id": "NzYUI7FxJpgv"
      },
      "source": [
        " From 1998 to 2018 the London borough of Hackney had the greatest increase in average home prices at 6.198%. Ten of the boroughs increased 5% in 20 years. The boroughs have a positive correlation closer to 1 than 0. \n",
        "\n",
        "The borough of Camden went from 110,k in 1995 to above 800,k in 2021. Camden peaked at the end of 2019 and began to decline possibly from covid-19. It also decreased in 2008 probably from the worldwide economic recession. The homes increased by 4.93% in 20 years making it the 11th highest increase among the boroughs.\n",
        "\n",
        "Kensington & Chelsea is by far the most expensive borough currently. In 1995 it was 182,695, and increased to 1.33M in 2018. Kensington & Chelsea had an increase of 5.08% in average price of a home.\n",
        "\n",
        "In 2018 the least expensive borough was Barking & Dagenham at 322,949 average price. Ironically they have the 12th highest increase in price at 4.89% in 20 years. In 1995 it was 50,460. \n"
      ]
    }
  ]
}